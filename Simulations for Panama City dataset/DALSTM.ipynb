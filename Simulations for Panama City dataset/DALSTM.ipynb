{
 "cells": [
  {
   "cell_type": "code",
   "execution_count": 11,
   "metadata": {},
   "outputs": [],
   "source": [
    "import numpy as np\n",
    "import pandas as pd\n",
    "import matplotlib.pyplot as plt\n",
    "from sklearn.preprocessing import MinMaxScaler\n",
    "from sklearn.model_selection import train_test_split\n",
    "import tensorflow as tf\n",
    "from sklearn.metrics import mean_squared_error, mean_absolute_error, mean_absolute_percentage_error"
   ]
  },
  {
   "cell_type": "code",
   "execution_count": 12,
   "metadata": {},
   "outputs": [],
   "source": [
    "# Set random seeds for reproducibility\n",
    "np.random.seed(42)\n",
    "tf.random.set_seed(42)"
   ]
  },
  {
   "cell_type": "code",
   "execution_count": 13,
   "metadata": {},
   "outputs": [],
   "source": [
    "# Load and preprocess the data\n",
    "df = pd.read_csv('panama_dataset.csv')\n",
    "df.dropna(inplace=True)\n",
    "\n",
    "s1 = MinMaxScaler(feature_range=(0, 1))\n",
    "s2 = MinMaxScaler(feature_range=(0, 1))"
   ]
  },
  {
   "cell_type": "code",
   "execution_count": 14,
   "metadata": {},
   "outputs": [],
   "source": [
    "# Selecting only the target variable and scaling\n",
    "ys = s2.fit_transform(df[['target_variable']])"
   ]
  },
  {
   "cell_type": "code",
   "execution_count": 15,
   "metadata": {},
   "outputs": [],
   "source": [
    "# Scaling the input features\n",
    "Xs = s1.fit_transform(df.drop(columns=['target_variable']))\n",
    "window = 1\n",
    "num_features = Xs.shape[1]"
   ]
  },
  {
   "cell_type": "code",
   "execution_count": 16,
   "metadata": {},
   "outputs": [],
   "source": [
    "# Reshape the input features to have shape (None, 5, num_features)\n",
    "Xs_reshaped = np.array([Xs[i:i+window] for i in range(len(Xs)-window+1)])\n",
    "\n",
    "# Slice the target variable to match the length of Xs_reshaped\n",
    "ys_sliced = ys[window-1:]"
   ]
  },
  {
   "cell_type": "code",
   "execution_count": 17,
   "metadata": {},
   "outputs": [],
   "source": [
    "# Split the data\n",
    "X_train, X_test, y_train, y_test = train_test_split(Xs_reshaped, ys_sliced, test_size=0.2, shuffle=False)"
   ]
  },
  {
   "cell_type": "code",
   "execution_count": 18,
   "metadata": {},
   "outputs": [],
   "source": [
    "def dual_attention_lstm(input_shape):\n",
    "    inputs = tf.keras.Input(shape=input_shape)\n",
    "    lstm_out = tf.keras.layers.LSTM(64, return_sequences=True)(inputs)\n",
    "    attention1 = tf.keras.layers.Attention()([lstm_out, lstm_out])\n",
    "    attention1 = tf.keras.layers.GlobalAveragePooling1D()(attention1)\n",
    "    #attention2 = tf.keras.layers.Attention()([attention1, lstm_out])\n",
    "    #attention2 = tf.keras.layers.GlobalAveragePooling1D()(attention2)\n",
    "    \n",
    "    outputs = tf.keras.layers.Dense(1, activation='linear')(attention1)\n",
    "    model = tf.keras.Model(inputs=inputs, outputs=outputs)\n",
    "    return model\n",
    "\n",
    "model = dual_attention_lstm((X_train.shape[1], num_features))\n",
    "model.compile(optimizer=tf.keras.optimizers.Adam(learning_rate=0.01), loss='mse', metrics=['mae'])"
   ]
  },
  {
   "cell_type": "code",
   "execution_count": 19,
   "metadata": {},
   "outputs": [
    {
     "name": "stdout",
     "output_type": "stream",
     "text": [
      "Epoch 1/50\n",
      "1202/1202 [==============================] - 8s 4ms/step - loss: 0.0086 - mae: 0.0718\n",
      "Epoch 2/50\n",
      "1202/1202 [==============================] - 4s 3ms/step - loss: 0.0067 - mae: 0.0660\n",
      "Epoch 3/50\n",
      "1202/1202 [==============================] - 4s 3ms/step - loss: 0.0065 - mae: 0.0652\n",
      "Epoch 4/50\n",
      "1202/1202 [==============================] - 4s 3ms/step - loss: 0.0064 - mae: 0.0646\n",
      "Epoch 5/50\n",
      "1202/1202 [==============================] - 4s 3ms/step - loss: 0.0064 - mae: 0.0645\n",
      "Epoch 6/50\n",
      "1202/1202 [==============================] - 4s 4ms/step - loss: 0.0064 - mae: 0.0643\n",
      "Epoch 7/50\n",
      "1202/1202 [==============================] - 4s 4ms/step - loss: 0.0063 - mae: 0.0641\n",
      "Epoch 8/50\n",
      "1202/1202 [==============================] - 4s 3ms/step - loss: 0.0063 - mae: 0.0638\n",
      "Epoch 9/50\n",
      "1202/1202 [==============================] - 4s 3ms/step - loss: 0.0062 - mae: 0.0636\n",
      "Epoch 10/50\n",
      "1202/1202 [==============================] - 4s 3ms/step - loss: 0.0062 - mae: 0.0635\n",
      "Epoch 11/50\n",
      "1202/1202 [==============================] - 4s 3ms/step - loss: 0.0062 - mae: 0.0633\n",
      "Epoch 12/50\n",
      "1202/1202 [==============================] - 4s 3ms/step - loss: 0.0062 - mae: 0.0634\n",
      "Epoch 13/50\n",
      "1202/1202 [==============================] - 4s 3ms/step - loss: 0.0062 - mae: 0.0633\n",
      "Epoch 14/50\n",
      "1202/1202 [==============================] - 4s 3ms/step - loss: 0.0062 - mae: 0.0631\n",
      "Epoch 15/50\n",
      "1202/1202 [==============================] - 4s 4ms/step - loss: 0.0062 - mae: 0.0631\n",
      "Epoch 16/50\n",
      "1202/1202 [==============================] - 4s 4ms/step - loss: 0.0061 - mae: 0.0630\n",
      "Epoch 17/50\n",
      "1202/1202 [==============================] - 4s 3ms/step - loss: 0.0061 - mae: 0.0630\n",
      "Epoch 18/50\n",
      "1202/1202 [==============================] - 4s 3ms/step - loss: 0.0061 - mae: 0.0630\n",
      "Epoch 19/50\n",
      "1202/1202 [==============================] - 4s 3ms/step - loss: 0.0061 - mae: 0.0630\n",
      "Epoch 20/50\n",
      "1202/1202 [==============================] - 4s 3ms/step - loss: 0.0061 - mae: 0.0629\n",
      "Epoch 21/50\n",
      "1202/1202 [==============================] - 4s 3ms/step - loss: 0.0061 - mae: 0.0630\n",
      "Epoch 22/50\n",
      "1202/1202 [==============================] - 4s 3ms/step - loss: 0.0061 - mae: 0.0628\n",
      "Epoch 23/50\n",
      "1202/1202 [==============================] - 4s 3ms/step - loss: 0.0061 - mae: 0.0628\n",
      "Epoch 24/50\n",
      "1202/1202 [==============================] - 4s 3ms/step - loss: 0.0061 - mae: 0.0629\n",
      "Epoch 25/50\n",
      "1202/1202 [==============================] - 4s 3ms/step - loss: 0.0061 - mae: 0.0629\n",
      "Epoch 26/50\n",
      "1202/1202 [==============================] - 4s 3ms/step - loss: 0.0061 - mae: 0.0627\n",
      "Epoch 27/50\n",
      "1202/1202 [==============================] - 4s 3ms/step - loss: 0.0061 - mae: 0.0627\n",
      "Epoch 28/50\n",
      "1202/1202 [==============================] - 4s 3ms/step - loss: 0.0061 - mae: 0.0627\n",
      "Epoch 29/50\n",
      "1202/1202 [==============================] - 4s 3ms/step - loss: 0.0061 - mae: 0.0627\n",
      "Epoch 30/50\n",
      "1202/1202 [==============================] - 4s 3ms/step - loss: 0.0061 - mae: 0.0627\n",
      "Epoch 31/50\n",
      "1202/1202 [==============================] - 4s 4ms/step - loss: 0.0061 - mae: 0.0626\n",
      "Epoch 32/50\n",
      "1202/1202 [==============================] - 4s 3ms/step - loss: 0.0061 - mae: 0.0627\n",
      "Epoch 33/50\n",
      "1202/1202 [==============================] - 4s 4ms/step - loss: 0.0061 - mae: 0.0628\n",
      "Epoch 34/50\n",
      "1202/1202 [==============================] - 4s 4ms/step - loss: 0.0061 - mae: 0.0627\n",
      "Epoch 35/50\n",
      "1202/1202 [==============================] - 4s 3ms/step - loss: 0.0061 - mae: 0.0626\n",
      "Epoch 36/50\n",
      "1202/1202 [==============================] - 4s 3ms/step - loss: 0.0061 - mae: 0.0626\n",
      "Epoch 37/50\n",
      "1202/1202 [==============================] - 4s 3ms/step - loss: 0.0061 - mae: 0.0626\n",
      "Epoch 38/50\n",
      "1202/1202 [==============================] - 4s 3ms/step - loss: 0.0061 - mae: 0.0625\n",
      "Epoch 39/50\n",
      "1202/1202 [==============================] - 4s 3ms/step - loss: 0.0061 - mae: 0.0624\n",
      "Epoch 40/50\n",
      "1202/1202 [==============================] - 4s 3ms/step - loss: 0.0061 - mae: 0.0627\n",
      "Epoch 41/50\n",
      "1202/1202 [==============================] - 4s 3ms/step - loss: 0.0061 - mae: 0.0625\n",
      "Epoch 42/50\n",
      "1202/1202 [==============================] - 4s 3ms/step - loss: 0.0061 - mae: 0.0625\n",
      "Epoch 43/50\n",
      "1202/1202 [==============================] - 4s 3ms/step - loss: 0.0061 - mae: 0.0626\n",
      "Epoch 44/50\n",
      "1202/1202 [==============================] - 4s 3ms/step - loss: 0.0061 - mae: 0.0625\n",
      "Epoch 45/50\n",
      "1202/1202 [==============================] - 4s 3ms/step - loss: 0.0061 - mae: 0.0625\n",
      "Epoch 46/50\n",
      "1202/1202 [==============================] - 4s 3ms/step - loss: 0.0061 - mae: 0.0624\n",
      "Epoch 47/50\n",
      "1202/1202 [==============================] - 5s 4ms/step - loss: 0.0061 - mae: 0.0624\n",
      "Epoch 48/50\n",
      "1202/1202 [==============================] - 4s 4ms/step - loss: 0.0061 - mae: 0.0625\n",
      "Epoch 49/50\n",
      "1202/1202 [==============================] - 5s 4ms/step - loss: 0.0061 - mae: 0.0625\n",
      "Epoch 50/50\n",
      "1202/1202 [==============================] - 4s 3ms/step - loss: 0.0061 - mae: 0.0625\n",
      "301/301 [==============================] - 1s 2ms/step - loss: 0.0090 - mae: 0.0749\n",
      "Test Loss: 0.009008985944092274\n",
      "Test MAE: 0.07489132136106491\n",
      "301/301 [==============================] - 2s 2ms/step\n"
     ]
    }
   ],
   "source": [
    "history = model.fit(X_train, y_train, epochs=50, batch_size=32)\n",
    "\n",
    "loss, mae = model.evaluate(X_test, y_test)\n",
    "print(f'Test Loss: {loss}')\n",
    "print(f'Test MAE: {mae}')\n",
    "\n",
    "y_pred = s2.inverse_transform(model.predict(X_test))\n",
    "y_test = s2.inverse_transform(y_test)"
   ]
  },
  {
   "cell_type": "code",
   "execution_count": 20,
   "metadata": {},
   "outputs": [
    {
     "name": "stdout",
     "output_type": "stream",
     "text": [
      "RMSE:  158.47970359880955\n",
      "MAE 125.04525375972496\n",
      "MAPE 10.514877867243715\n",
      "MSE 25115.816452766525\n",
      "NRMSE 12.967529399017586\n"
     ]
    }
   ],
   "source": [
    "rmse = np.sqrt(mean_squared_error(y_test, y_pred))\n",
    "mae = mean_absolute_error(y_test, y_pred)\n",
    "mape = mean_absolute_percentage_error(y_test, y_pred) * 100\n",
    "mse = mean_squared_error(y_test, y_pred)\n",
    "nrmse = (rmse / np.mean(y_pred)) * 100\n",
    "\n",
    "print(\"RMSE: \", rmse)\n",
    "print(\"MAE\", mae)\n",
    "print(\"MAPE\", mape)\n",
    "print(\"MSE\", mse)\n",
    "print(\"NRMSE\", nrmse)"
   ]
  }
 ],
 "metadata": {
  "kernelspec": {
   "display_name": "Python 3",
   "language": "python",
   "name": "python3"
  },
  "language_info": {
   "codemirror_mode": {
    "name": "ipython",
    "version": 3
   },
   "file_extension": ".py",
   "mimetype": "text/x-python",
   "name": "python",
   "nbconvert_exporter": "python",
   "pygments_lexer": "ipython3",
   "version": "3.10.9"
  }
 },
 "nbformat": 4,
 "nbformat_minor": 2
}
