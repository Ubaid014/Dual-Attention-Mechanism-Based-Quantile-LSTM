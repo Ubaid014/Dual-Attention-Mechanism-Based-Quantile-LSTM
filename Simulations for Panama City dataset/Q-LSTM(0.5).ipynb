{
 "cells": [
  {
   "cell_type": "code",
   "execution_count": 10,
   "metadata": {},
   "outputs": [],
   "source": [
    "import numpy as np\n",
    "import pandas as pd\n",
    "import matplotlib.pyplot as plt\n",
    "from sklearn.preprocessing import MinMaxScaler\n",
    "import tensorflow as tf\n",
    "from sklearn.model_selection import train_test_split\n",
    "from sklearn.metrics import mean_squared_error, mean_absolute_error, mean_absolute_percentage_error\n",
    "\n",
    "# Define quantile loss function\n",
    "def quantile_loss(y_true, y_pred, quantile=0.5):\n",
    "    e = y_true - y_pred\n",
    "    return tf.keras.backend.mean(tf.keras.backend.maximum(quantile * e, (quantile - 1) * e), axis=-1)\n",
    "\n",
    "# Load data\n",
    "df = pd.read_csv('panama_dataset.csv')\n",
    "df.dropna(inplace=True)\n",
    "\n",
    "# Preprocess data\n",
    "s1 = MinMaxScaler(feature_range=(0,1))\n",
    "Xs = s1.fit_transform(df)\n",
    "s2 = MinMaxScaler(feature_range=(0,1))\n",
    "ys = s2.fit_transform(df[['target_variable']])\n",
    "\n",
    "window= 5\n",
    "X=[]\n",
    "Y=[]\n",
    "for i in range(window,len(Xs)):\n",
    "    X.append(Xs[i-window:i,:])\n",
    "    Y.append(ys[i])\n",
    "X,Y = np.array(X), np.array(Y)"
   ]
  },
  {
   "cell_type": "code",
   "execution_count": 11,
   "metadata": {},
   "outputs": [
    {
     "name": "stdout",
     "output_type": "stream",
     "text": [
      "Train set shape (33630, 5, 5)\n",
      "testing set shape (14413, 5, 5)\n"
     ]
    }
   ],
   "source": [
    "# Split data into training and testing sets\n",
    "X_train1, X_test1, y_train, y_test = train_test_split(X, Y, test_size=0.3, shuffle=False)\n",
    "print('Train set shape', X_train1.shape)\n",
    "print('testing set shape', X_test1.shape)"
   ]
  },
  {
   "cell_type": "code",
   "execution_count": 12,
   "metadata": {},
   "outputs": [],
   "source": [
    "def hybrid_model(input_shape, quantile=0.5):\n",
    "    inputs = tf.keras.Input(shape=input_shape)\n",
    "    \n",
    "    # First LSTM layer\n",
    "    lstm_out = tf.keras.layers.LSTM(32, return_sequences=True)(inputs)\n",
    "    \n",
    "    # Second LSTM layer\n",
    "    lstm_out = tf.keras.layers.LSTM(32, return_sequences=True)(lstm_out)\n",
    "\n",
    "    # Dropout layer\n",
    "    #dropout = tf.keras.layers.Dropout(0.25)(lstm_out)\n",
    "    \n",
    "    # Flatten the output to remove the time dimension\n",
    "    flattened = tf.keras.layers.Flatten()(lstm_out)\n",
    "\n",
    "    # Output layer\n",
    "    quantile_lstm_out = tf.keras.layers.Dense(1)(flattened)\n",
    "    \n",
    "    # Quantile LSTM model\n",
    "    quantile_lstm_model = tf.keras.Model(inputs=inputs, outputs=quantile_lstm_out)\n",
    "    quantile_lstm_model.compile(optimizer=tf.keras.optimizers.Adam(learning_rate=0.01),\n",
    "                                loss=lambda y_true, y_pred: quantile_loss(y_true, y_pred, quantile=quantile))\n",
    "    \n",
    "    return quantile_lstm_model\n"
   ]
  },
  {
   "cell_type": "code",
   "execution_count": 13,
   "metadata": {},
   "outputs": [
    {
     "name": "stdout",
     "output_type": "stream",
     "text": [
      "Epoch 1/50\n",
      "1051/1051 [==============================] - 12s 7ms/step - loss: 0.0186\n",
      "Epoch 2/50\n",
      "1051/1051 [==============================] - 8s 8ms/step - loss: 0.0098\n",
      "Epoch 3/50\n",
      "1051/1051 [==============================] - 8s 8ms/step - loss: 0.0087\n",
      "Epoch 4/50\n",
      "1051/1051 [==============================] - 8s 8ms/step - loss: 0.0083\n",
      "Epoch 5/50\n",
      "1051/1051 [==============================] - 8s 7ms/step - loss: 0.0080\n",
      "Epoch 6/50\n",
      "1051/1051 [==============================] - 8s 7ms/step - loss: 0.0078\n",
      "Epoch 7/50\n",
      "1051/1051 [==============================] - 7s 7ms/step - loss: 0.0075\n",
      "Epoch 8/50\n",
      "1051/1051 [==============================] - 8s 8ms/step - loss: 0.0073\n",
      "Epoch 9/50\n",
      "1051/1051 [==============================] - 8s 8ms/step - loss: 0.0071\n",
      "Epoch 10/50\n",
      "1051/1051 [==============================] - 11s 10ms/step - loss: 0.0071\n",
      "Epoch 11/50\n",
      "1051/1051 [==============================] - 12s 12ms/step - loss: 0.0069\n",
      "Epoch 12/50\n",
      "1051/1051 [==============================] - 10s 10ms/step - loss: 0.0067\n",
      "Epoch 13/50\n",
      "1051/1051 [==============================] - 9s 8ms/step - loss: 0.0067\n",
      "Epoch 14/50\n",
      "1051/1051 [==============================] - 9s 8ms/step - loss: 0.0065\n",
      "Epoch 15/50\n",
      "1051/1051 [==============================] - 9s 8ms/step - loss: 0.0065\n",
      "Epoch 16/50\n",
      "1051/1051 [==============================] - 9s 8ms/step - loss: 0.0063\n",
      "Epoch 17/50\n",
      "1051/1051 [==============================] - 8s 8ms/step - loss: 0.0063\n",
      "Epoch 18/50\n",
      "1051/1051 [==============================] - 9s 8ms/step - loss: 0.0064\n",
      "Epoch 19/50\n",
      "1051/1051 [==============================] - 9s 9ms/step - loss: 0.0062\n",
      "Epoch 20/50\n",
      "1051/1051 [==============================] - 9s 8ms/step - loss: 0.0062\n",
      "Epoch 21/50\n",
      "1051/1051 [==============================] - 9s 8ms/step - loss: 0.0062\n",
      "Epoch 22/50\n",
      "1051/1051 [==============================] - 9s 9ms/step - loss: 0.0060\n",
      "Epoch 23/50\n",
      "1051/1051 [==============================] - 9s 8ms/step - loss: 0.0061\n",
      "Epoch 24/50\n",
      "1051/1051 [==============================] - 8s 8ms/step - loss: 0.0061\n",
      "Epoch 25/50\n",
      "1051/1051 [==============================] - 8s 8ms/step - loss: 0.0060\n",
      "Epoch 26/50\n",
      "1051/1051 [==============================] - 8s 8ms/step - loss: 0.0060\n",
      "Epoch 27/50\n",
      "1051/1051 [==============================] - 9s 9ms/step - loss: 0.0059\n",
      "Epoch 28/50\n",
      "1051/1051 [==============================] - 9s 9ms/step - loss: 0.0060\n",
      "Epoch 29/50\n",
      "1051/1051 [==============================] - 8s 8ms/step - loss: 0.0059\n",
      "Epoch 30/50\n",
      "1051/1051 [==============================] - 8s 8ms/step - loss: 0.0058\n",
      "Epoch 31/50\n",
      "1051/1051 [==============================] - 9s 8ms/step - loss: 0.0058\n",
      "Epoch 32/50\n",
      "1051/1051 [==============================] - 9s 8ms/step - loss: 0.0058\n",
      "Epoch 33/50\n",
      "1051/1051 [==============================] - 9s 8ms/step - loss: 0.0058\n",
      "Epoch 34/50\n",
      "1051/1051 [==============================] - 8s 8ms/step - loss: 0.0057\n",
      "Epoch 35/50\n",
      "1051/1051 [==============================] - 10s 9ms/step - loss: 0.0058\n",
      "Epoch 36/50\n",
      "1051/1051 [==============================] - 9s 8ms/step - loss: 0.0057\n",
      "Epoch 37/50\n",
      "1051/1051 [==============================] - 9s 8ms/step - loss: 0.0057\n",
      "Epoch 38/50\n",
      "1051/1051 [==============================] - 9s 9ms/step - loss: 0.0057\n",
      "Epoch 39/50\n",
      "1051/1051 [==============================] - 8s 8ms/step - loss: 0.0056\n",
      "Epoch 40/50\n",
      "1051/1051 [==============================] - 9s 8ms/step - loss: 0.0056\n",
      "Epoch 41/50\n",
      "1051/1051 [==============================] - 8s 8ms/step - loss: 0.0056\n",
      "Epoch 42/50\n",
      "1051/1051 [==============================] - 9s 8ms/step - loss: 0.0056\n",
      "Epoch 43/50\n",
      "1051/1051 [==============================] - 9s 9ms/step - loss: 0.0055\n",
      "Epoch 44/50\n",
      "1051/1051 [==============================] - 9s 8ms/step - loss: 0.0055\n",
      "Epoch 45/50\n",
      "1051/1051 [==============================] - 9s 8ms/step - loss: 0.0055\n",
      "Epoch 46/50\n",
      "1051/1051 [==============================] - 9s 8ms/step - loss: 0.0055\n",
      "Epoch 47/50\n",
      "1051/1051 [==============================] - 9s 8ms/step - loss: 0.0055\n",
      "Epoch 48/50\n",
      "1051/1051 [==============================] - 8s 8ms/step - loss: 0.0054\n",
      "Epoch 49/50\n",
      "1051/1051 [==============================] - 8s 8ms/step - loss: 0.0054\n",
      "Epoch 50/50\n",
      "1051/1051 [==============================] - 9s 8ms/step - loss: 0.0053\n"
     ]
    }
   ],
   "source": [
    "model = hybrid_model((X_train1.shape[1], X_train1.shape[2]))\n",
    "history = model.fit(X_train1, y_train, epochs=50, batch_size=32)"
   ]
  },
  {
   "cell_type": "code",
   "execution_count": 14,
   "metadata": {},
   "outputs": [
    {
     "name": "stdout",
     "output_type": "stream",
     "text": [
      "Model: \"model_1\"\n",
      "_________________________________________________________________\n",
      " Layer (type)                Output Shape              Param #   \n",
      "=================================================================\n",
      " input_2 (InputLayer)        [(None, 5, 5)]            0         \n",
      "                                                                 \n",
      " lstm_2 (LSTM)               (None, 5, 32)             4864      \n",
      "                                                                 \n",
      " lstm_3 (LSTM)               (None, 5, 32)             8320      \n",
      "                                                                 \n",
      " flatten_1 (Flatten)         (None, 160)               0         \n",
      "                                                                 \n",
      " dense_1 (Dense)             (None, 1)                 161       \n",
      "                                                                 \n",
      "=================================================================\n",
      "Total params: 13,345\n",
      "Trainable params: 13,345\n",
      "Non-trainable params: 0\n",
      "_________________________________________________________________\n"
     ]
    }
   ],
   "source": [
    "model.summary()"
   ]
  },
  {
   "cell_type": "code",
   "execution_count": 15,
   "metadata": {},
   "outputs": [
    {
     "name": "stdout",
     "output_type": "stream",
     "text": [
      "451/451 [==============================] - 3s 3ms/step\n"
     ]
    }
   ],
   "source": [
    "y_pred = model.predict(X_test1)"
   ]
  },
  {
   "cell_type": "code",
   "execution_count": 16,
   "metadata": {},
   "outputs": [],
   "source": [
    "y_pred = s2.inverse_transform(y_pred)\n",
    "y_test = s2.inverse_transform(y_test)"
   ]
  },
  {
   "cell_type": "code",
   "execution_count": 17,
   "metadata": {},
   "outputs": [
    {
     "data": {
      "text/plain": [
       "(14413, 1)"
      ]
     },
     "execution_count": 17,
     "metadata": {},
     "output_type": "execute_result"
    }
   ],
   "source": [
    "y_test.shape"
   ]
  },
  {
   "cell_type": "code",
   "execution_count": 18,
   "metadata": {},
   "outputs": [
    {
     "name": "stdout",
     "output_type": "stream",
     "text": [
      "RMSE: 33.88594972308657\n",
      "MAE: 23.73479597391054\n",
      "MAPE: 2.046811459634818\n",
      "MSE: 1148.2575886355505\n",
      "NRMSE: 2.8168780705685084\n"
     ]
    }
   ],
   "source": [
    "rmse = np.sqrt(mean_squared_error(y_test, y_pred))\n",
    "mae = mean_absolute_error(y_test, y_pred)\n",
    "mape = mean_absolute_percentage_error(y_test, y_pred)*100\n",
    "mse = mean_squared_error(y_test, y_pred)\n",
    "nrmse = (rmse/np.mean(y_pred))*100\n",
    "\n",
    "print(\"RMSE:\", rmse)\n",
    "print(\"MAE:\", mae)\n",
    "print(\"MAPE:\", mape)\n",
    "print(\"MSE:\", mse)\n",
    "print(\"NRMSE:\", nrmse)"
   ]
  }
 ],
 "metadata": {
  "kernelspec": {
   "display_name": "Python 3",
   "language": "python",
   "name": "python3"
  },
  "language_info": {
   "codemirror_mode": {
    "name": "ipython",
    "version": 3
   },
   "file_extension": ".py",
   "mimetype": "text/x-python",
   "name": "python",
   "nbconvert_exporter": "python",
   "pygments_lexer": "ipython3",
   "version": "3.10.9"
  }
 },
 "nbformat": 4,
 "nbformat_minor": 2
}
