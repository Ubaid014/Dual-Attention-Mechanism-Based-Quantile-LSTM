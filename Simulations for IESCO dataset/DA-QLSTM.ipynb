{
 "cells": [
  {
   "cell_type": "code",
   "execution_count": 1,
   "metadata": {},
   "outputs": [],
   "source": [
    "import numpy as np\n",
    "import pandas as pd\n",
    "import matplotlib.pyplot as plt\n",
    "from sklearn.preprocessing import MinMaxScaler\n",
    "import tensorflow as tf\n",
    "from sklearn.model_selection import train_test_split\n",
    "from sklearn.metrics import mean_squared_error, mean_absolute_error, mean_absolute_percentage_error\n",
    "\n",
    "# Define quantile loss function\n",
    "def quantile_loss(y_true, y_pred, quantile=0.6):\n",
    "    e = y_true - y_pred\n",
    "    return tf.keras.backend.mean(tf.keras.backend.maximum(quantile * e, (quantile - 1) * e), axis=-1)\n",
    "\n",
    "# Load data\n",
    "df = pd.read_csv('IESCO_dataset.csv')\n",
    "df.dropna(inplace=True)\n",
    "\n",
    "# Preprocess data\n",
    "s1 = MinMaxScaler(feature_range=(0,1))\n",
    "Xs = s1.fit_transform(df)\n",
    "s2 = MinMaxScaler(feature_range=(0,1))\n",
    "ys = s2.fit_transform(df[['target_variable']])\n",
    "\n",
    "window= 5\n",
    "X=[]\n",
    "Y=[]\n",
    "for i in range(window,len(Xs)):\n",
    "    X.append(Xs[i-window:i,:])\n",
    "    Y.append(ys[i])\n",
    "X,Y = np.array(X), np.array(Y)"
   ]
  },
  {
   "cell_type": "code",
   "execution_count": 2,
   "metadata": {},
   "outputs": [
    {
     "name": "stdout",
     "output_type": "stream",
     "text": [
      "Train set shape (9186, 5, 5)\n",
      "testing set shape (3937, 5, 5)\n"
     ]
    }
   ],
   "source": [
    "# Split data into training and testing sets\n",
    "X_train1, X_test1, y_train, y_test = train_test_split(X, Y, test_size=0.3, shuffle=False)\n",
    "print('Train set shape', X_train1.shape)\n",
    "print('testing set shape', X_test1.shape)"
   ]
  },
  {
   "cell_type": "code",
   "execution_count": 3,
   "metadata": {},
   "outputs": [],
   "source": [
    "def hybrid_model(input_shape, quantile=0.6):\n",
    "    inputs = tf.keras.Input(shape=input_shape)\n",
    "    \n",
    "    # First LSTM layer\n",
    "    lstm_out = tf.keras.layers.LSTM(32, return_sequences=True)(inputs)\n",
    "    \n",
    "    # Second LSTM layer\n",
    "    #lstm_out = tf.keras.layers.LSTM(64, return_sequences=True)(lstm_out)\n",
    "\n",
    "    # First Attention layer\n",
    "    attention = tf.keras.layers.Attention()([lstm_out, lstm_out])\n",
    "    attention1 = tf.keras.layers.GlobalAveragePooling1D()(attention)\n",
    "\n",
    "    dropout = tf.keras.layers.Dropout(0.25)(attention1)\n",
    "\n",
    "\n",
    "\n",
    "    # Output layer\n",
    "    quantile_lstm_out = tf.keras.layers.Dense(1)(attention1)\n",
    "    \n",
    "    # Quantile LSTM model\n",
    "    quantile_lstm_model = tf.keras.Model(inputs=inputs, outputs=quantile_lstm_out)\n",
    "    quantile_lstm_model.compile(optimizer=tf.keras.optimizers.Adam(learning_rate=0.01),\n",
    "                                loss=lambda y_true, y_pred: quantile_loss(y_true, y_pred, quantile=quantile))\n",
    "    \n",
    "    return quantile_lstm_model"
   ]
  },
  {
   "cell_type": "code",
   "execution_count": 4,
   "metadata": {},
   "outputs": [
    {
     "name": "stdout",
     "output_type": "stream",
     "text": [
      "Epoch 1/50\n",
      "288/288 [==============================] - 5s 7ms/step - loss: 0.0294\n",
      "Epoch 2/50\n",
      "288/288 [==============================] - 2s 5ms/step - loss: 0.0197\n",
      "Epoch 3/50\n",
      "288/288 [==============================] - 2s 5ms/step - loss: 0.0160\n",
      "Epoch 4/50\n",
      "288/288 [==============================] - 2s 5ms/step - loss: 0.0149\n",
      "Epoch 5/50\n",
      "288/288 [==============================] - 2s 6ms/step - loss: 0.0144\n",
      "Epoch 6/50\n",
      "288/288 [==============================] - 2s 7ms/step - loss: 0.0139\n",
      "Epoch 7/50\n",
      "288/288 [==============================] - 2s 7ms/step - loss: 0.0144\n",
      "Epoch 8/50\n",
      "288/288 [==============================] - 2s 7ms/step - loss: 0.0136\n",
      "Epoch 9/50\n",
      "288/288 [==============================] - 2s 6ms/step - loss: 0.0134\n",
      "Epoch 10/50\n",
      "288/288 [==============================] - 2s 6ms/step - loss: 0.0134\n",
      "Epoch 11/50\n",
      "288/288 [==============================] - 2s 6ms/step - loss: 0.0136\n",
      "Epoch 12/50\n",
      "288/288 [==============================] - 3s 11ms/step - loss: 0.0133\n",
      "Epoch 13/50\n",
      "288/288 [==============================] - 3s 11ms/step - loss: 0.0139\n",
      "Epoch 14/50\n",
      "288/288 [==============================] - 2s 8ms/step - loss: 0.0132\n",
      "Epoch 15/50\n",
      "288/288 [==============================] - 2s 7ms/step - loss: 0.0136\n",
      "Epoch 16/50\n",
      "288/288 [==============================] - 2s 7ms/step - loss: 0.0129\n",
      "Epoch 17/50\n",
      "288/288 [==============================] - 2s 5ms/step - loss: 0.0131\n",
      "Epoch 18/50\n",
      "288/288 [==============================] - 1s 4ms/step - loss: 0.0131\n",
      "Epoch 19/50\n",
      "288/288 [==============================] - 1s 5ms/step - loss: 0.0131\n",
      "Epoch 20/50\n",
      "288/288 [==============================] - 1s 5ms/step - loss: 0.0127\n",
      "Epoch 21/50\n",
      "288/288 [==============================] - 2s 7ms/step - loss: 0.0131\n",
      "Epoch 22/50\n",
      "288/288 [==============================] - 2s 8ms/step - loss: 0.0132\n",
      "Epoch 23/50\n",
      "288/288 [==============================] - 2s 8ms/step - loss: 0.0131\n",
      "Epoch 24/50\n",
      "288/288 [==============================] - 3s 10ms/step - loss: 0.0128\n",
      "Epoch 25/50\n",
      "288/288 [==============================] - 3s 11ms/step - loss: 0.0128\n",
      "Epoch 26/50\n",
      "288/288 [==============================] - 3s 10ms/step - loss: 0.0130\n",
      "Epoch 27/50\n",
      "288/288 [==============================] - 3s 9ms/step - loss: 0.0127\n",
      "Epoch 28/50\n",
      "288/288 [==============================] - 3s 11ms/step - loss: 0.0128\n",
      "Epoch 29/50\n",
      "288/288 [==============================] - 3s 11ms/step - loss: 0.0128\n",
      "Epoch 30/50\n",
      "288/288 [==============================] - 3s 11ms/step - loss: 0.0128\n",
      "Epoch 31/50\n",
      "288/288 [==============================] - 4s 14ms/step - loss: 0.0126\n",
      "Epoch 32/50\n",
      "288/288 [==============================] - 2s 8ms/step - loss: 0.0127\n",
      "Epoch 33/50\n",
      "288/288 [==============================] - 2s 7ms/step - loss: 0.0124\n",
      "Epoch 34/50\n",
      "288/288 [==============================] - 2s 7ms/step - loss: 0.0125\n",
      "Epoch 35/50\n",
      "288/288 [==============================] - 3s 12ms/step - loss: 0.0126\n",
      "Epoch 36/50\n",
      "288/288 [==============================] - 4s 14ms/step - loss: 0.0126\n",
      "Epoch 37/50\n",
      "288/288 [==============================] - 3s 11ms/step - loss: 0.0122\n",
      "Epoch 38/50\n",
      "288/288 [==============================] - 2s 8ms/step - loss: 0.0121\n",
      "Epoch 39/50\n",
      "288/288 [==============================] - 2s 7ms/step - loss: 0.0120\n",
      "Epoch 40/50\n",
      "288/288 [==============================] - 2s 7ms/step - loss: 0.0120\n",
      "Epoch 41/50\n",
      "288/288 [==============================] - 2s 7ms/step - loss: 0.0121\n",
      "Epoch 42/50\n",
      "288/288 [==============================] - 4s 13ms/step - loss: 0.0120\n",
      "Epoch 43/50\n",
      "288/288 [==============================] - 2s 8ms/step - loss: 0.0120\n",
      "Epoch 44/50\n",
      "288/288 [==============================] - 2s 7ms/step - loss: 0.0121\n",
      "Epoch 45/50\n",
      "288/288 [==============================] - 2s 7ms/step - loss: 0.0120\n",
      "Epoch 46/50\n",
      "288/288 [==============================] - 2s 6ms/step - loss: 0.0122\n",
      "Epoch 47/50\n",
      "288/288 [==============================] - 2s 6ms/step - loss: 0.0117\n",
      "Epoch 48/50\n",
      "288/288 [==============================] - 2s 6ms/step - loss: 0.0116\n",
      "Epoch 49/50\n",
      "288/288 [==============================] - 2s 8ms/step - loss: 0.0117\n",
      "Epoch 50/50\n",
      "288/288 [==============================] - 2s 8ms/step - loss: 0.0117\n"
     ]
    }
   ],
   "source": [
    "model = hybrid_model((X_train1.shape[1], X_train1.shape[2]))\n",
    "history = model.fit(X_train1, y_train, epochs=50, batch_size=32)"
   ]
  },
  {
   "cell_type": "code",
   "execution_count": 5,
   "metadata": {},
   "outputs": [
    {
     "name": "stdout",
     "output_type": "stream",
     "text": [
      "Model: \"model\"\n",
      "__________________________________________________________________________________________________\n",
      " Layer (type)                   Output Shape         Param #     Connected to                     \n",
      "==================================================================================================\n",
      " input_1 (InputLayer)           [(None, 5, 5)]       0           []                               \n",
      "                                                                                                  \n",
      " lstm (LSTM)                    (None, 5, 32)        4864        ['input_1[0][0]']                \n",
      "                                                                                                  \n",
      " attention (Attention)          (None, 5, 32)        0           ['lstm[0][0]',                   \n",
      "                                                                  'lstm[0][0]']                   \n",
      "                                                                                                  \n",
      " global_average_pooling1d (Glob  (None, 32)          0           ['attention[0][0]']              \n",
      " alAveragePooling1D)                                                                              \n",
      "                                                                                                  \n",
      " dense (Dense)                  (None, 1)            33          ['global_average_pooling1d[0][0]'\n",
      "                                                                 ]                                \n",
      "                                                                                                  \n",
      "==================================================================================================\n",
      "Total params: 4,897\n",
      "Trainable params: 4,897\n",
      "Non-trainable params: 0\n",
      "__________________________________________________________________________________________________\n"
     ]
    }
   ],
   "source": [
    "model.summary()"
   ]
  },
  {
   "cell_type": "code",
   "execution_count": 6,
   "metadata": {},
   "outputs": [
    {
     "name": "stdout",
     "output_type": "stream",
     "text": [
      "124/124 [==============================] - 2s 3ms/step\n"
     ]
    }
   ],
   "source": [
    "y_pred = model.predict(X_test1)"
   ]
  },
  {
   "cell_type": "code",
   "execution_count": 7,
   "metadata": {},
   "outputs": [],
   "source": [
    "# Reshape y_pred and y_test from 3D to 2D\n",
    "y_pred_reshaped = y_pred.reshape(-1, y_pred.shape[-1])\n",
    "#y_test_reshaped = y_test.reshape(-1, y_test.shape[-1])"
   ]
  },
  {
   "cell_type": "code",
   "execution_count": 8,
   "metadata": {},
   "outputs": [],
   "source": [
    "y_pred = s2.inverse_transform(y_pred_reshaped)\n",
    "y_test = s2.inverse_transform(y_test)"
   ]
  },
  {
   "cell_type": "code",
   "execution_count": 9,
   "metadata": {},
   "outputs": [
    {
     "name": "stdout",
     "output_type": "stream",
     "text": [
      "RMSE: 64.62628977165718\n",
      "MAE: 41.60963710855644\n",
      "MAPE: 4.0640950501920186\n",
      "MSE: 4176.557329650202\n",
      "NRMSE: 6.224101238021502\n"
     ]
    }
   ],
   "source": [
    "rmse = np.sqrt(mean_squared_error(y_test, y_pred))\n",
    "mae = mean_absolute_error(y_test, y_pred)\n",
    "mape = mean_absolute_percentage_error(y_test, y_pred)*100\n",
    "mse = mean_squared_error(y_test, y_pred)\n",
    "nrmse = (rmse/np.mean(y_pred))*100\n",
    "\n",
    "print(\"RMSE:\", rmse)\n",
    "print(\"MAE:\", mae)\n",
    "print(\"MAPE:\", mape)\n",
    "print(\"MSE:\", mse)\n",
    "print(\"NRMSE:\", nrmse)"
   ]
  },
  {
   "cell_type": "code",
   "execution_count": 10,
   "metadata": {},
   "outputs": [],
   "source": [
    "y_pred= pd.DataFrame(y_pred)\n",
    "y_test= pd.DataFrame(y_test)"
   ]
  },
  {
   "cell_type": "code",
   "execution_count": 12,
   "metadata": {},
   "outputs": [],
   "source": [
    "result_df = pd.concat([y_pred, y_test], axis=1)\n",
    "result_df.to_csv(r\"E:\\MODELS\\IESCO\\DAQ-LSTM_1.csv\", index=False)"
   ]
  },
  {
   "cell_type": "code",
   "execution_count": null,
   "metadata": {},
   "outputs": [],
   "source": []
  }
 ],
 "metadata": {
  "kernelspec": {
   "display_name": "Python 3",
   "language": "python",
   "name": "python3"
  },
  "language_info": {
   "codemirror_mode": {
    "name": "ipython",
    "version": 3
   },
   "file_extension": ".py",
   "mimetype": "text/x-python",
   "name": "python",
   "nbconvert_exporter": "python",
   "pygments_lexer": "ipython3",
   "version": "3.10.9"
  }
 },
 "nbformat": 4,
 "nbformat_minor": 2
}
