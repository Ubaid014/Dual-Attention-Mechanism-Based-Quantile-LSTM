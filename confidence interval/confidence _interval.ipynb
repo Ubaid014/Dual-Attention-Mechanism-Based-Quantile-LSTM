{
 "cells": [
  {
   "cell_type": "markdown",
   "metadata": {},
   "source": [
    "# Confidence interval with MAE for IESCO dataset"
   ]
  },
  {
   "cell_type": "code",
   "execution_count": 2,
   "metadata": {},
   "outputs": [],
   "source": [
    "import numpy as np\n",
    "import pandas as pd\n",
    "from sklearn.metrics import mean_absolute_percentage_error\n",
    "from sklearn.metrics import mean_absolute_error\n",
    "from sklearn.utils import resample"
   ]
  },
  {
   "cell_type": "code",
   "execution_count": 1,
   "metadata": {},
   "outputs": [
    {
     "name": "stdout",
     "output_type": "stream",
     "text": [
      "['Measured', 'Actual']\n"
     ]
    }
   ],
   "source": [
    "\n",
    "\n",
    "df= pd.read_csv(\"DAQ-LSTM_IESCO.csv\")\n",
    "features = list(df)\n",
    "print(features)"
   ]
  },
  {
   "cell_type": "code",
   "execution_count": 2,
   "metadata": {},
   "outputs": [],
   "source": [
    "x = df[\"Actual\"]\n",
    "y = df[\"Measured\"]"
   ]
  },
  {
   "cell_type": "code",
   "execution_count": 3,
   "metadata": {},
   "outputs": [
    {
     "name": "stdout",
     "output_type": "stream",
     "text": [
      "MAE Confidence Interval for IESCO dataset: [40.11954928 43.17370761]\n"
     ]
    }
   ],
   "source": [
    "# Assuming you have actual and predicted values\n",
    "actual_values = np.array(x)\n",
    "predicted_values = np.array(y)\n",
    "\n",
    "# Number of bootstrap samples\n",
    "num_bootstrap_samples = 10000\n",
    "\n",
    "# Array to store RMSE values from each bootstrap sample\n",
    "bootstrap_mae_values = []\n",
    "\n",
    "# Perform bootstrapping\n",
    "for _ in range(num_bootstrap_samples):\n",
    "    # Create a bootstrap sample\n",
    "    bootstrap_sample_indices = np.random.choice(len(actual_values), len(actual_values), replace=True)\n",
    "    bootstrap_actual = actual_values[bootstrap_sample_indices]\n",
    "    bootstrap_predicted = predicted_values[bootstrap_sample_indices]\n",
    "\n",
    "    # Calculate RMSE for the bootstrap sample\n",
    "    bootstrap_mae = mean_absolute_error(bootstrap_actual, bootstrap_predicted)\n",
    "    bootstrap_mae_values.append(bootstrap_mae)\n",
    "\n",
    "# Calculate confidence interval\n",
    "confidence_interval = np.percentile(bootstrap_mae_values, [2.5, 97.5])\n",
    "\n",
    "print(f\"MAE Confidence Interval for IESCO dataset: {confidence_interval}\")\n"
   ]
  },
  {
   "cell_type": "markdown",
   "metadata": {},
   "source": [
    "# Confidence interval with MAE for Panama dataset"
   ]
  },
  {
   "cell_type": "code",
   "execution_count": 4,
   "metadata": {},
   "outputs": [
    {
     "name": "stdout",
     "output_type": "stream",
     "text": [
      "['Measured', 'Actual']\n"
     ]
    }
   ],
   "source": [
    "df= pd.read_csv(\"DAQ-LSTM_Panama.csv\")\n",
    "features = list(df)\n",
    "print(features)\n"
   ]
  },
  {
   "cell_type": "code",
   "execution_count": 5,
   "metadata": {},
   "outputs": [],
   "source": [
    "x = df[\"Actual\"]\n",
    "y = df[\"Measured\"]"
   ]
  },
  {
   "cell_type": "code",
   "execution_count": 6,
   "metadata": {},
   "outputs": [
    {
     "name": "stdout",
     "output_type": "stream",
     "text": [
      "MAE Confidence Interval for Panama dataset: [18.83784205 19.50239654]\n"
     ]
    }
   ],
   "source": [
    "# Assuming you have actual and predicted values\n",
    "actual_values = np.array(x)\n",
    "predicted_values = np.array(y)\n",
    "\n",
    "# Number of bootstrap samples\n",
    "num_bootstrap_samples = 10000\n",
    "\n",
    "# Array to store RMSE values from each bootstrap sample\n",
    "bootstrap_mae_values = []\n",
    "\n",
    "# Perform bootstrapping\n",
    "for _ in range(num_bootstrap_samples):\n",
    "    # Create a bootstrap sample\n",
    "    bootstrap_sample_indices = np.random.choice(len(actual_values), len(actual_values), replace=True)\n",
    "    bootstrap_actual = actual_values[bootstrap_sample_indices]\n",
    "    bootstrap_predicted = predicted_values[bootstrap_sample_indices]\n",
    "\n",
    "    # Calculate RMSE for the bootstrap sample\n",
    "    bootstrap_mae = mean_absolute_error(bootstrap_actual, bootstrap_predicted)\n",
    "    bootstrap_mae_values.append(bootstrap_mae)\n",
    "\n",
    "# Calculate confidence interval\n",
    "confidence_interval = np.percentile(bootstrap_mae_values, [2.5, 97.5])\n",
    "\n",
    "print(f\"MAE Confidence Interval for Panama dataset: {confidence_interval}\")\n"
   ]
  },
  {
   "cell_type": "markdown",
   "metadata": {},
   "source": [
    "# Confidence interval with MAPE for IESCO dataset"
   ]
  },
  {
   "cell_type": "code",
   "execution_count": 3,
   "metadata": {},
   "outputs": [
    {
     "name": "stdout",
     "output_type": "stream",
     "text": [
      "MAPE Confidence Interval for IESCO dataset: [3.89929072 4.24418769]\n"
     ]
    }
   ],
   "source": [
    "import numpy as np\n",
    "import pandas as pd\n",
    "from sklearn.metrics import mean_absolute_percentage_error\n",
    "from sklearn.metrics import mean_absolute_error\n",
    "from sklearn.utils import resample\n",
    "\n",
    "df= pd.read_csv(\"DAQ-LSTM_IESCO.csv\")\n",
    "features = list(df)\n",
    "x = df[\"Actual\"]\n",
    "y = df[\"Measured\"]\n",
    "# Assuming you have actual and predicted values\n",
    "actual_values = np.array(x)\n",
    "predicted_values = np.array(y)\n",
    "\n",
    "# Number of bootstrap samples\n",
    "num_bootstrap_samples = 10000\n",
    "\n",
    "# Array to store RMSE values from each bootstrap sample\n",
    "bootstrap_mape_values = []\n",
    "\n",
    "# Perform bootstrapping\n",
    "for _ in range(num_bootstrap_samples):\n",
    "    # Create a bootstrap sample\n",
    "    bootstrap_sample_indices = np.random.choice(len(actual_values), len(actual_values), replace=True)\n",
    "    bootstrap_actual = actual_values[bootstrap_sample_indices]\n",
    "    bootstrap_predicted = predicted_values[bootstrap_sample_indices]\n",
    "\n",
    "    # Calculate RMSE for the bootstrap sample\n",
    "    bootstrap_mape = mean_absolute_percentage_error(bootstrap_actual, bootstrap_predicted)*100\n",
    "    bootstrap_mape_values.append(bootstrap_mape)\n",
    "\n",
    "# Calculate confidence interval\n",
    "confidence_interval = np.percentile(bootstrap_mape_values, [2.5, 97.5])\n",
    "\n",
    "print(f\"MAPE Confidence Interval for IESCO dataset: {confidence_interval}\")\n"
   ]
  },
  {
   "cell_type": "markdown",
   "metadata": {},
   "source": [
    "# Confidence interval with MAPE for Panama dataset"
   ]
  },
  {
   "cell_type": "code",
   "execution_count": 4,
   "metadata": {},
   "outputs": [
    {
     "name": "stdout",
     "output_type": "stream",
     "text": [
      "MAPE Confidence Interval for Panama dataset: [1.58628447 1.76682833]\n"
     ]
    }
   ],
   "source": [
    "import numpy as np\n",
    "import pandas as pd\n",
    "from sklearn.metrics import mean_absolute_percentage_error\n",
    "from sklearn.metrics import mean_absolute_error\n",
    "from sklearn.utils import resample\n",
    "\n",
    "df= pd.read_csv(\"DAQ-LSTM_Panama.csv\")\n",
    "features = list(df)\n",
    "x = df[\"Actual\"]\n",
    "y = df[\"Measured\"]\n",
    "# Assuming you have actual and predicted values\n",
    "actual_values = np.array(x)\n",
    "predicted_values = np.array(y)\n",
    "\n",
    "# Number of bootstrap samples\n",
    "num_bootstrap_samples = 10000\n",
    "\n",
    "# Array to store RMSE values from each bootstrap sample\n",
    "bootstrap_mape_values = []\n",
    "\n",
    "# Perform bootstrapping\n",
    "for _ in range(num_bootstrap_samples):\n",
    "    # Create a bootstrap sample\n",
    "    bootstrap_sample_indices = np.random.choice(len(actual_values), len(actual_values), replace=True)\n",
    "    bootstrap_actual = actual_values[bootstrap_sample_indices]\n",
    "    bootstrap_predicted = predicted_values[bootstrap_sample_indices]\n",
    "\n",
    "    # Calculate RMSE for the bootstrap sample\n",
    "    bootstrap_mape = mean_absolute_percentage_error(bootstrap_actual, bootstrap_predicted)*100\n",
    "    bootstrap_mape_values.append(bootstrap_mape)\n",
    "\n",
    "# Calculate confidence interval\n",
    "confidence_interval = np.percentile(bootstrap_mape_values, [2.5, 97.5])\n",
    "\n",
    "print(f\"MAPE Confidence Interval for Panama dataset: {confidence_interval}\")\n"
   ]
  }
 ],
 "metadata": {
  "kernelspec": {
   "display_name": "Python 3",
   "language": "python",
   "name": "python3"
  },
  "language_info": {
   "codemirror_mode": {
    "name": "ipython",
    "version": 3
   },
   "file_extension": ".py",
   "mimetype": "text/x-python",
   "name": "python",
   "nbconvert_exporter": "python",
   "pygments_lexer": "ipython3",
   "version": "3.10.9"
  }
 },
 "nbformat": 4,
 "nbformat_minor": 2
}
