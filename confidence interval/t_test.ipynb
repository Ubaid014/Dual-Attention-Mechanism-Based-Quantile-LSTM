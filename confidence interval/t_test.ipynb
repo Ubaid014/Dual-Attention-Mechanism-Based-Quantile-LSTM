{
 "cells": [
  {
   "cell_type": "code",
   "execution_count": 2,
   "metadata": {},
   "outputs": [],
   "source": [
    "import pandas as pd\n",
    "from scipy.stats import ttest_rel, shapiro"
   ]
  },
  {
   "cell_type": "code",
   "execution_count": 3,
   "metadata": {},
   "outputs": [],
   "source": [
    "data = pd.read_csv('DAQ-LSTM_IESCO.csv')"
   ]
  },
  {
   "cell_type": "code",
   "execution_count": 4,
   "metadata": {},
   "outputs": [
    {
     "data": {
      "text/plain": [
       "['Measured', 'Actual', 'RNN-GRU']"
      ]
     },
     "execution_count": 4,
     "metadata": {},
     "output_type": "execute_result"
    }
   ],
   "source": [
    "features=list(data)\n",
    "features"
   ]
  },
  {
   "cell_type": "code",
   "execution_count": 5,
   "metadata": {},
   "outputs": [],
   "source": [
    "actual = data['Actual']  \n",
    "forecasted = data['Measured'] \n",
    "RNN_GRU = data['RNN-GRU'] "
   ]
  },
  {
   "cell_type": "code",
   "execution_count": 6,
   "metadata": {},
   "outputs": [
    {
     "name": "stdout",
     "output_type": "stream",
     "text": [
      "Shapiro-Wilk test for normality (p-value): 1.8083408067201883e-51\n"
     ]
    }
   ],
   "source": [
    "differences = actual - forecasted\n",
    "shapiro_test = shapiro(differences)\n",
    "\n",
    "print(\"Shapiro-Wilk test for normality (p-value):\", shapiro_test.pvalue)"
   ]
  },
  {
   "cell_type": "code",
   "execution_count": 7,
   "metadata": {},
   "outputs": [
    {
     "name": "stdout",
     "output_type": "stream",
     "text": [
      "Paired t-test results:\n",
      "t-statistic: 3.0021904154790935\n",
      "p-value: 0.002697285962049441\n"
     ]
    }
   ],
   "source": [
    "\n",
    "t_stat, p_value = ttest_rel(actual, forecasted)\n",
    "print(\"Paired t-test results:\")\n",
    "print(\"t-statistic:\", t_stat)\n",
    "print(\"p-value:\", p_value)\n"
   ]
  },
  {
   "cell_type": "code",
   "execution_count": 8,
   "metadata": {},
   "outputs": [
    {
     "name": "stdout",
     "output_type": "stream",
     "text": [
      "Paired t-test results for DAQLSTM vs. Second Best Model:\n",
      "t-statistic: 26.15360588338403\n",
      "p-value: 3.7110577317188706e-139\n"
     ]
    }
   ],
   "source": [
    "from scipy.stats import ttest_rel\n",
    "\n",
    "# Calculate residuals/errors\n",
    "errors_proposed = actual - forecasted\n",
    "errors_second_best = actual - RNN_GRU\n",
    "\n",
    "# Perform paired t-test\n",
    "t_stat, p_value = ttest_rel( errors_proposed, errors_second_best)\n",
    "\n",
    "print(\"Paired t-test results for DAQLSTM vs. Second Best Model:\")\n",
    "print(\"t-statistic:\", t_stat)\n",
    "print(\"p-value:\", p_value)\n"
   ]
  }
 ],
 "metadata": {
  "kernelspec": {
   "display_name": "Python 3",
   "language": "python",
   "name": "python3"
  },
  "language_info": {
   "codemirror_mode": {
    "name": "ipython",
    "version": 3
   },
   "file_extension": ".py",
   "mimetype": "text/x-python",
   "name": "python",
   "nbconvert_exporter": "python",
   "pygments_lexer": "ipython3",
   "version": "3.10.9"
  }
 },
 "nbformat": 4,
 "nbformat_minor": 2
}
